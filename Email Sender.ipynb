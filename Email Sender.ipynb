{
 "cells": [
  {
   "cell_type": "code",
   "execution_count": 1,
   "metadata": {},
   "outputs": [],
   "source": [
    "import pandas as pd"
   ]
  },
  {
   "cell_type": "code",
   "execution_count": 4,
   "metadata": {},
   "outputs": [],
   "source": [
    "df = pd.read_csv(\"test.csv\")"
   ]
  },
  {
   "cell_type": "code",
   "execution_count": 5,
   "metadata": {},
   "outputs": [
    {
     "data": {
      "text/html": [
       "<div>\n",
       "<style scoped>\n",
       "    .dataframe tbody tr th:only-of-type {\n",
       "        vertical-align: middle;\n",
       "    }\n",
       "\n",
       "    .dataframe tbody tr th {\n",
       "        vertical-align: top;\n",
       "    }\n",
       "\n",
       "    .dataframe thead th {\n",
       "        text-align: right;\n",
       "    }\n",
       "</style>\n",
       "<table border=\"1\" class=\"dataframe\">\n",
       "  <thead>\n",
       "    <tr style=\"text-align: right;\">\n",
       "      <th></th>\n",
       "      <th>nombre</th>\n",
       "      <th>mail</th>\n",
       "      <th>nota</th>\n",
       "      <th>resultado</th>\n",
       "    </tr>\n",
       "  </thead>\n",
       "  <tbody>\n",
       "    <tr>\n",
       "      <th>0</th>\n",
       "      <td>Billy</td>\n",
       "      <td>billy.mosse@gmail.com</td>\n",
       "      <td>54</td>\n",
       "      <td>NO</td>\n",
       "    </tr>\n",
       "    <tr>\n",
       "      <th>1</th>\n",
       "      <td>Pepe</td>\n",
       "      <td>14aprosa@gmail.com</td>\n",
       "      <td>61</td>\n",
       "      <td>SI</td>\n",
       "    </tr>\n",
       "  </tbody>\n",
       "</table>\n",
       "</div>"
      ],
      "text/plain": [
       "  nombre                   mail  nota resultado\n",
       "0  Billy  billy.mosse@gmail.com    54        NO\n",
       "1   Pepe     14aprosa@gmail.com    61        SI"
      ]
     },
     "execution_count": 5,
     "metadata": {},
     "output_type": "execute_result"
    }
   ],
   "source": [
    "df"
   ]
  },
  {
   "cell_type": "code",
   "execution_count": 26,
   "metadata": {},
   "outputs": [
    {
     "data": {
      "text/plain": [
       "(250,\n",
       " b'smtp.gmail.com at your service, [157.92.37.1]\\nSIZE 35882577\\n8BITMIME\\nAUTH LOGIN PLAIN XOAUTH2 PLAIN-CLIENTTOKEN OAUTHBEARER XOAUTH\\nENHANCEDSTATUSCODES\\nPIPELINING\\nCHUNKING\\nSMTPUTF8')"
      ]
     },
     "execution_count": 26,
     "metadata": {},
     "output_type": "execute_result"
    }
   ],
   "source": [
    "import smtplib\n",
    "\n",
    "server = smtplib.SMTP('smtp.gmail.com', 587)\n",
    "server.ehlo()\n",
    "\n",
    "#Secure connection\n",
    "server.starttls()\n",
    "server.ehlo()\n"
   ]
  },
  {
   "cell_type": "code",
   "execution_count": 30,
   "metadata": {},
   "outputs": [
    {
     "data": {
      "text/plain": [
       "(235, b'2.7.0 Accepted')"
      ]
     },
     "execution_count": 30,
     "metadata": {},
     "output_type": "execute_result"
    }
   ],
   "source": []
  },
  {
   "cell_type": "code",
   "execution_count": 5,
   "metadata": {},
   "outputs": [
    {
     "name": "stdout",
     "output_type": "stream",
     "text": [
      "nombre                       Billy\n",
      "mail         billy.mosse@gmail.com\n",
      "nota                            54\n",
      "resultado                       NO\n",
      "Name: 0, dtype: object\n"
     ]
    }
   ],
   "source": [
    "for index, row in df.iterrows():\n",
    "\n",
    "    print(row)"
   ]
  },
  {
   "cell_type": "code",
   "execution_count": 10,
   "metadata": {},
   "outputs": [
    {
     "name": "stdout",
     "output_type": "stream",
     "text": [
      "nombre                       Billy\n",
      "mail         billy.mosse@gmail.com\n",
      "nota                            54\n",
      "resultado                       NO\n",
      "Name: 0, dtype: object\n",
      "   \n",
      "Hola, Billy\n",
      " Lo lamentamos, pero reprobaste. Tu nota es: 54.\n",
      " Vamos a entregar los parciales durante el recuperatorio del primero. Saludos!\n",
      "  nombre                   mail  nota resultado\n",
      "0  Billy  billy.mosse@gmail.com    54        NO\n"
     ]
    }
   ],
   "source": [
    "import smtplib\n",
    "\n",
    "#Si usas gmail tenes que permitir que se conecten apps a tu cuenta\n",
    "gmail_user = 'billy.mosse@gmail.com'\n",
    "gmail_password = 'MYSTRONGPASSWORD'\n",
    "\n",
    "server = smtplib.SMTP('smtp.gmail.com:587')\n",
    "server.starttls()\n",
    "\n",
    "server.login(gmail_user, gmail_password)\n",
    "for index, row in df.iterrows():\n",
    "    print(row)\n",
    "    print(\"   \")\n",
    "    sent_from = 'MYSTRONG'  \n",
    "    to = [row[\"mail\"]]\n",
    "    nombre = row[\"nombre\"]\n",
    "    nota = int(row[\"nota\"])\n",
    "    subject = 'Resultado segundo parcial'\n",
    "    body = \"Hola, %s\\n\" % nombre\n",
    "    if row[\"resultado\"] == \"SI\":\n",
    "        body += \" Aprobaste!\"\n",
    "    else:\n",
    "        body += \" Lo lamentamos, pero reprobaste.\"\n",
    "    body += \" Tu nota es: %d.\" % nota\n",
    "    body += \"\\n Vamos a entregar los parciales durante el recuperatorio del primero. Saludos!\"\n",
    "    print(body)\n",
    "    \n",
    "    print(df)\n",
    "    \n",
    "    message = 'Subject: {}\\n\\n{}'.format(subject, body)\n",
    "    server.sendmail(sent_from, to, message)\n",
    "server.close()\n"
   ]
  },
  {
   "cell_type": "code",
   "execution_count": null,
   "metadata": {},
   "outputs": [],
   "source": []
  }
 ],
 "metadata": {
  "kernelspec": {
   "display_name": "Python 3",
   "language": "python",
   "name": "python3"
  },
  "language_info": {
   "codemirror_mode": {
    "name": "ipython",
    "version": 3
   },
   "file_extension": ".py",
   "mimetype": "text/x-python",
   "name": "python",
   "nbconvert_exporter": "python",
   "pygments_lexer": "ipython3",
   "version": "3.6.7"
  }
 },
 "nbformat": 4,
 "nbformat_minor": 2
}
